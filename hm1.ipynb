{
 "cells": [
  {
   "attachments": {},
   "cell_type": "markdown",
   "metadata": {},
   "source": [
    "# Задача 1\n",
    "Оформляйте ноутбук, используя эти советы: <br> \n",
    "\n",
    "🌟 Номер задачи - # заголовок 2 <br> \n",
    "\n",
    "🌟 Номер подзадачи - ## заголовок 3 <br> \n",
    "\n",
    "🌟 Предоставленные наборы данных оформляйте, как код"
   ]
  },
  {
   "attachments": {},
   "cell_type": "markdown",
   "metadata": {},
   "source": [
    "# Задача 2\n",
    "На складе лежат разные фрукты в разном количестве.\n",
    "\n",
    "Нужно написать функцию, которая на вход принимает любое количество названий фруктов и их количество, <br> а возвращает\n",
    "общее количество фруктов на складе"
   ]
  },
  {
   "cell_type": "code",
   "execution_count": 72,
   "metadata": {},
   "outputs": [],
   "source": [
    "def total_quantity(**kwargs):\n",
    "    fruits_quantity = sum(kwargs.values())\n",
    "    return (f\"Общее количество фруктов = {fruits_quantity}.\")"
   ]
  },
  {
   "cell_type": "code",
   "execution_count": 73,
   "metadata": {},
   "outputs": [
    {
     "data": {
      "text/plain": [
       "'Общее количество фруктов = 22.'"
      ]
     },
     "execution_count": 73,
     "metadata": {},
     "output_type": "execute_result"
    }
   ],
   "source": [
    "total_quantity(яблоки = 5, мандарины = 5, апельсины = 4, груши = 8)"
   ]
  },
  {
   "attachments": {},
   "cell_type": "markdown",
   "metadata": {},
   "source": [
    "# Задача 3\n",
    "Дан список с затратами на рекламу. \n",
    "<br> Но в данных есть ошибки, некоторые затраты имеют отрицательную величину.\n",
    "<br> Удалите такие значения из списка и посчитайте суммарные затраты <br> \n",
    "[100, 125, -90, 345, 655, -1, 0, 200] <br> \n",
    "Используйте list comprehensions."
   ]
  },
  {
   "cell_type": "code",
   "execution_count": 74,
   "metadata": {},
   "outputs": [],
   "source": [
    "def ad_expenses(sp1: list):\n",
    "    sp2 = []\n",
    "    for i in sp1:\n",
    "        if i > 0:\n",
    "            sp2.append(i)    \n",
    "    print(sp2)\n",
    "    print(f'Итого расходы на рекламу: {sum(sp2)}')"
   ]
  },
  {
   "cell_type": "code",
   "execution_count": 75,
   "metadata": {},
   "outputs": [
    {
     "name": "stdout",
     "output_type": "stream",
     "text": [
      "[100, 125, 345, 655, 200]\n",
      "Итого расходы на рекламу: 1425\n"
     ]
    }
   ],
   "source": [
    "data = [100, 125, -90, 345, 655, -1, 0, 200]\n",
    "ad_expenses(data)"
   ]
  },
  {
   "attachments": {},
   "cell_type": "markdown",
   "metadata": {},
   "source": [
    "## Используйте list comprehensions."
   ]
  },
  {
   "cell_type": "code",
   "execution_count": 76,
   "metadata": {},
   "outputs": [
    {
     "name": "stdout",
     "output_type": "stream",
     "text": [
      "[100, 125, 345, 655, 200]\n",
      "Итого расходы на рекламу: 1425\n"
     ]
    }
   ],
   "source": [
    "print([i for i in data if i > 0 ])\n",
    "print(f'Итого расходы на рекламу: {sum([i for i in data if i > 0 ])}')"
   ]
  },
  {
   "attachments": {},
   "cell_type": "markdown",
   "metadata": {},
   "source": [
    "# Задача 4\n",
    "Даны два списка.<br> \n",
    "Дата покупки <br> \n",
    "<br> \n",
    "['2021-09-14', '2021-12-15', '2021-09-08', '2021-12-05', '2021-10-09', '2021-09-30', '2021-12-22', '2021-11-29', <br> '2021-12-24', '2021-11-26', '2021-10-27', '2021-12-18', '2021-11-09', '2021-11-23', '2021-09-27',<br> \n",
    "'2021-10-02', '2021-12-27', '2021-09-20', '2021-12-13', '2021-11-01', '2021-11-09', '2021-12-06', '2021-12-08', <br> '2021-10-09', '2021-10-31', '2021-09-30', '2021-11-09', '2021-12-13', '2021-10-26', '2021-12-09']<br> \n",
    "<br> \n",
    "Суммы покупок по датам<br> \n",
    "<br> \n",
    "[1270, 8413, 9028, 3703, 5739, 4095, 295, 4944, 5723, 3701, 4471, 651, 7037, 4274, 6275, 4988, 6930, 2971, 6592, <br> 2004, 2822, 519, 3406, 2732, 5015, 2008, 316, 6333, 5700, 2887]<br>\n",
    "<br> \n",
    "4.1 Найдите, какая выручка у компании в ноябре <br> \n",
    "Используйте list comprehensions<br> \n",
    "<br> \n",
    "4.2 Найдите выручку компании в зависимости от месяца<br> \n",
    "Для этого напишите функцию, которая на вход принимает список с датами и список с выручкой, а на выходе словарь, где<br> \n",
    "ключи - это месяцы, а значения - это выручка.<br> \n",
    "Используйте аннотирование типов.\n"
   ]
  },
  {
   "attachments": {},
   "cell_type": "markdown",
   "metadata": {},
   "source": [
    "## 4.1 Найдите, какая выручка у компании в ноябре <br> \n",
    "Используйте list comprehensions<br> "
   ]
  },
  {
   "cell_type": "code",
   "execution_count": 77,
   "metadata": {},
   "outputs": [],
   "source": [
    "date = ['2021-09-14', '2021-12-15', '2021-09-08', '2021-12-05', '2021-10-09', \n",
    "        '2021-09-30', '2021-12-22', '2021-11-29', '2021-12-24', '2021-11-26', \n",
    "        '2021-10-27', '2021-12-18', '2021-11-09', '2021-11-23', '2021-09-27', \n",
    "        '2021-10-02', '2021-12-27', '2021-09-20', '2021-12-13', '2021-11-01', \n",
    "        '2021-11-09', '2021-12-06', '2021-12-08', '2021-10-09', '2021-10-31', \n",
    "        '2021-09-30', '2021-11-09', '2021-12-13', '2021-10-26', '2021-12-09']\n",
    "\n",
    "revenue = [1270, 8413, 9028, 3703, 5739, 4095, 295, 4944, 5723, 3701, 4471, 651, \n",
    "        7037, 4274, 6275, 4988, 6930, 2971, 6592, 2004, 2822, 519, 3406, 2732, \n",
    "        5015, 2008, 316, 6333, 5700, 2887]"
   ]
  },
  {
   "cell_type": "code",
   "execution_count": 56,
   "metadata": {},
   "outputs": [],
   "source": [
    "def month_sales(sp1: list, sp2: list) -> list:\n",
    "    month_data = []\n",
    "    for i in range(len(sp1)-1):\n",
    "        if '-11-' in sp1[i]:\n",
    "            month_data.append(sp2[i])\n",
    "            \n",
    "    return month_data"
   ]
  },
  {
   "cell_type": "code",
   "execution_count": 63,
   "metadata": {},
   "outputs": [
    {
     "name": "stdout",
     "output_type": "stream",
     "text": [
      "[4944, 3701, 7037, 4274, 2004, 2822, 316]\n",
      "Выручка в ноябре = 25098\n"
     ]
    }
   ],
   "source": [
    "print(month_sales(date, revenue))\n",
    "november_data = month_sales(date, revenue)\n",
    "print(f'Выручка в ноябре = {sum(november_data)}')"
   ]
  },
  {
   "attachments": {},
   "cell_type": "markdown",
   "metadata": {},
   "source": [
    "## 4.2 Найдите выручку компании в зависимости от месяца"
   ]
  },
  {
   "cell_type": "code",
   "execution_count": 64,
   "metadata": {},
   "outputs": [],
   "source": [
    "def sales(sp1: list, sp2: list) -> dict:\n",
    "    result = {}\n",
    "    for i in range(len(sp1)):\n",
    "        if date[i].split('-')[1] in result.keys():\n",
    "            result[date[i].split('-')[1]] += revenue[i]\n",
    "        else:\n",
    "            result[date[i].split('-')[1]] = revenue[i]        \n",
    "    return result"
   ]
  },
  {
   "cell_type": "code",
   "execution_count": 65,
   "metadata": {},
   "outputs": [
    {
     "name": "stdout",
     "output_type": "stream",
     "text": [
      "{'09': 25647, '12': 45452, '10': 28645, '11': 25098}\n"
     ]
    }
   ],
   "source": [
    "print(sales(date, revenue))"
   ]
  }
 ],
 "metadata": {
  "kernelspec": {
   "display_name": "Python 3",
   "language": "python",
   "name": "python3"
  },
  "language_info": {
   "codemirror_mode": {
    "name": "ipython",
    "version": 3
   },
   "file_extension": ".py",
   "mimetype": "text/x-python",
   "name": "python",
   "nbconvert_exporter": "python",
   "pygments_lexer": "ipython3",
   "version": "3.8.10"
  },
  "orig_nbformat": 4
 },
 "nbformat": 4,
 "nbformat_minor": 2
}
